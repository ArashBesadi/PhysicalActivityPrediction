{
 "cells": [
  {
   "cell_type": "markdown",
   "metadata": {},
   "source": [
    "# Data Science Research Methods: Assignment 2"
   ]
  },
  {
   "cell_type": "code",
   "execution_count": 146,
   "metadata": {},
   "outputs": [
    {
     "name": "stdout",
     "output_type": "stream",
     "text": [
      "number of words:  3958\n"
     ]
    }
   ],
   "source": [
    "# Counts the words in the markdown cells \n",
    "import io\n",
    "from IPython.nbformat import current\n",
    "\n",
    "output = io.open('Assignment 2.ipynb', 'r', encoding='utf-8')\n",
    "with output as f:\n",
    "    nb = current.read(f, 'json')\n",
    "\n",
    "word_count = 0\n",
    "for cell in nb.worksheets[0].cells:\n",
    "    if cell.cell_type == \"markdown\":\n",
    "        # ignore hashtag \n",
    "        word_count += len(cell['source'].replace('#', '').lstrip().split(' '))\n",
    "print('number of words: ',word_count)\n",
    "output.close()"
   ]
  },
  {
   "cell_type": "code",
   "execution_count": 145,
   "metadata": {
    "collapsed": true
   },
   "outputs": [],
   "source": [
    "# pyhton libraries \n",
    "from matplotlib import pyplot as plt\n",
    "import matplotlib.mlab as mlab\n",
    "import numpy as np\n",
    "import pandas as pd\n",
    "import seaborn as sns\n",
    "from collections import Counter\n",
    "from sklearn.model_selection import train_test_split\n",
    "from sklearn.utils import resample\n",
    "from sklearn import svm\n",
    "from sklearn.naive_bayes import GaussianNB\n",
    "from sklearn.neighbors import KNeighborsClassifier\n",
    "from sklearn.tree import DecisionTreeClassifier\n",
    "from sklearn.metrics import precision_recall_fscore_support\n",
    "from sklearn.metrics import accuracy_score\n",
    "from scipy.stats import norm\n",
    "\n",
    "# the 2 defined classificaiton problems \n",
    "classification_problem = {\n",
    "    1: 'all_activity_recognition_task',\n",
    "    2: 'intensity_estimation_task'\n",
    "}\n",
    "\n",
    "# the 12 different activities in chronological order\n",
    "activity_class = {\n",
    "    1: 'lying',\n",
    "    2: 'sitting',\n",
    "    3: 'standing',\n",
    "    4: 'walking',\n",
    "    5: 'running',\n",
    "    6: 'cycling',\n",
    "    7: 'Nordic\\nwalking',\n",
    "    12: 'ascending\\nstairs',\n",
    "    13: 'descending\\nstairs',\n",
    "    16: 'vacuum\\ncleaning',\n",
    "    17: 'ironing',\n",
    "    24: 'rope\\njumping'\n",
    "}\n",
    "\n",
    "# the 3 defined classes for the intensity estimation task \n",
    "met_class = {\n",
    "    1: 'light',\n",
    "    2: 'moderate',\n",
    "    3: 'vigorous'\n",
    "}\n",
    "\n",
    "# the relevant columns the data exploration \n",
    "relevant_columns = [\n",
    "    'timestamp', 'activityID', 'heart rate',\n",
    "    'hand_acc_16g_x', 'hand_acc_16g_y', 'hand_acc_16g_z',\n",
    "    'chest_acc_16g_x', 'chest_acc_16g_y', 'chest_acc_16g_z',\n",
    "    'ankle_acc_16g_x', 'ankle_acc_16g_y', 'ankle_acc_16g_z'\n",
    "    \n",
    "]\n",
    "\n",
    "# the columns used for the feature extractions \n",
    "feature_columns = [\n",
    "    'heart rate',\n",
    "    'hand_acc_16g_x', 'hand_acc_16g_y', 'hand_acc_16g_z',\n",
    "    'chest_acc_16g_x', 'chest_acc_16g_z',\n",
    "    'ankle_acc_16g_x', 'ankle_acc_16g_y', 'ankle_acc_16g_z'\n",
    "]\n",
    "\n",
    "\n",
    "# the 3 different classifiers used for the benchmark tests\n",
    "current_clf = ['Naive Bayes','Decision Tree','kNN']\n",
    "\n",
    "# the support vector machine (SVM) is added as a new classifier\n",
    "extended_clf = current_clf + ['SVM']\n",
    "\n",
    "# the 4 different score metrics \n",
    "metrics = ['Precision','Recall','F-measure','Accuracy']\n",
    "\n",
    "# assigning the activities to the correpsonding met classes\n",
    "light_met_classes = [1, 2, 3, 17]\n",
    "moderate_met_classes = [16, 13, 4, 7, 6]\n",
    "vigorous_met_classes = [12, 5, 24]\n",
    "\n",
    "# the window and shift size for the segmentation\n",
    "window_size = 512\n",
    "shift_size = 100\n",
    "\n",
    "\n",
    "def read_subjects(start,end):\n",
    "    \"\"\"\n",
    "    Reads the subject files and concatenates them the into one panda dataset\n",
    "    \n",
    "    :param start: the number of the first subject file\n",
    "    :param end: the number of the last subject file\n",
    "    :return df: the panda dataframe \n",
    "    \"\"\"\n",
    "    \n",
    "    df = pd.DataFrame()\n",
    "    for i in range(start, end+1):\n",
    "        temp_df = pd.read_csv('subject10' + str(i) + '.dat', header=None, delimiter=' ')\n",
    "        df = pd.concat([df, temp_df])\n",
    "    return df\n",
    "\n",
    "\n",
    "def addheader(datasets):\n",
    "    \"\"\"\n",
    "    Adds the corresponding headers to the raw dataset\n",
    "    \n",
    "    :param dataset: the raw dataset \n",
    "    :return dataset: the modified dataset\n",
    "    \"\"\"\n",
    "\n",
    "    axes = ['x', 'y', 'z']\n",
    "    imu_columns = ['temperature'] + \\\n",
    "                        ['acc_16g_' + i for i in axes] + \\\n",
    "                        ['acc_6g_' + i for i in axes] + \\\n",
    "                        ['gyroscope_' + i for i in axes] + \\\n",
    "                        ['magnometer_' + i for i in axes] + \\\n",
    "                        ['orientation_' + str(i) for i in range(4)]\n",
    "    datasets.columns = [\"timestamp\", \"activityID\", \"heart rate\"] \\\n",
    "                       + [\"hand_\" + i for i in imu_columns] \\\n",
    "                       + [\"chest_\" + i for i in imu_columns] \\\n",
    "                       + [\"ankle_\" + i for i in imu_columns]\n",
    "\n",
    "    return datasets\n",
    "\n",
    "\n",
    "def get_mean_attribute(df_train,selected_attribute):\n",
    "    \"\"\"\n",
    "    Gets the mean of an attribute for each activity\n",
    "    \n",
    "    :param df_train: the reduced dataset for EDA\n",
    "    :param selected_attribute: the attribute for which the mean is calculated\n",
    "    :return activity_names: a list of activitiy names and their met class\n",
    "    :return attributes: a list of means for each activity \n",
    "    \"\"\"\n",
    "    \n",
    "    mean_attribute = {}\n",
    "    activity_names = []\n",
    "    attributes = []\n",
    "\n",
    "    # calculate the mean of the attribute and assign it to the corresponding activityID\n",
    "    for id in df_train.activityID.unique():\n",
    "        activity = df_train[df_train.activityID == id]\n",
    "        mean_attribute[id] = activity[selected_attribute].mean()\n",
    "        \n",
    "    # create list of activity names   \n",
    "    for attribute in sorted(mean_attribute.items(), key=lambda x: x[1]):\n",
    "        attributes.append(attribute[1])\n",
    "        id = attribute[0]\n",
    "        activity_name = activity_class[id]\n",
    "\n",
    "        if not '\\n' in activity_name:\n",
    "            activity_name += '\\n'\n",
    "        if id in light_met_classes:\n",
    "            activity_names.append(activity_name + '\\n' + met_class[1])\n",
    "        elif id in moderate_met_classes:\n",
    "            activity_names.append(activity_name + '\\n' + met_class[2])\n",
    "        elif id in vigorous_met_classes:\n",
    "            activity_names.append(activity_name + '\\n' + met_class[3])\n",
    "\n",
    "    return activity_names, attributes\n",
    "\n",
    "def calculate_attribute_parameter(attribute,mu):\n",
    "    \"\"\"\n",
    "    Calculates from a given attribute such as the heart rate the needed parameters \n",
    "    for the hypothesis testing \n",
    "    \n",
    "    :param attribute: the attribute for which the parameters are calculated\n",
    "    :param: mu, the mean of the tested hypothesis\n",
    "    :return n_attribute_moderate_met: the number of attributes from the moderate met class \n",
    "    :return mean_attribute_moderate_met: the mean of the attribute from the moderate met class\n",
    "    :return std_attribute_moderate_met: the std of the attribute from the moderate met class\n",
    "    :return z: the z-score used for the pvalue\n",
    "    :return pvalue: the probability value for the hypothesis testing \n",
    "    \"\"\"\n",
    "    \n",
    "    attribute_moderate_met = df_test.query('activityID == [16, 13, 4, 7, 6]')[attribute]\n",
    "    n_attribute_moderate_met = attribute_moderate_met.count()\n",
    "    mean_attribute_moderate_met = attribute_moderate_met.mean()\n",
    "    std_attribute_moderate_met = attribute_moderate_met.std()\n",
    "    z = (mean_attribute_moderate_met - mu) / (std_attribute_moderate_met / np.sqrt(n_attribute_moderate_met))\n",
    "    # Cumulative distribution function\n",
    "    pvalue = 1 - norm.cdf(z)\n",
    "    return n_attribute_moderate_met, mean_attribute_moderate_met ,std_attribute_moderate_met,z,pvalue\n",
    "\n",
    "def sliding_window(class_type, dataframe):\n",
    "    \"\"\"\n",
    "    Divides the time-series into a sequence of windows in order to extract the features\n",
    "    \n",
    "    :param class_type: the classificaiton problem \n",
    "    :param dataframe: the dataframe which should be divided\n",
    "    :return window_class_mappings: a list of mappings between a window and its corresponding class \n",
    "    \"\"\"\n",
    "    \n",
    "    activity_ids = dataframe.activityID.unique()\n",
    "    window_class_mappings = []\n",
    "    for id in activity_ids:\n",
    "        windows = []\n",
    "        activity = dataframe[dataframe.activityID == id]\n",
    "        number_rows = activity.timestamp.count()\n",
    "        activity = activity[feature_columns]\n",
    "        current_position = 0\n",
    "        # repeat until the last row is reached\n",
    "        while current_position < number_rows:\n",
    "            window = activity.iloc[current_position:current_position + window_size]\n",
    "            # create a numpy matrix \n",
    "            windows.append(window.as_matrix())\n",
    "            current_position += shift_size\n",
    "        define_classes(class_type, id, windows, window_class_mappings)\n",
    "    return window_class_mappings\n",
    "\n",
    "\n",
    "def define_classes(classification, id, windows, window_class_mappings):\n",
    "    \"\"\"\n",
    "    Defines the mapping between a window and its coressponding class regarding the classification problem\n",
    "    \n",
    "    :param classification: the classification problem defines the coressponding class \n",
    "    :param id: the activityID\n",
    "    :param windows: the window which contains 512 samples\n",
    "    :param window_class_mappings: a mapping between a window and its corresponding class\n",
    "    \n",
    "    \"\"\"\n",
    "    \n",
    "    if classification == classification_problem[1]:\n",
    "        window_class_mappings.append((id, windows))\n",
    "       \n",
    "    elif classification == classification_problem[2]:\n",
    "        if id in light_met_classes:\n",
    "            window_class_mappings.append((met_class[1], windows))\n",
    "\n",
    "        elif id in moderate_met_classes:\n",
    "            window_class_mappings.append((met_class[2], windows))\n",
    "\n",
    "        elif id in vigorous_met_classes:\n",
    "            window_class_mappings.append((met_class[3], windows))\n",
    "    \n",
    "\n",
    "\n",
    "def feature_extraction(windows_class_list):\n",
    "    \"\"\"\n",
    "    Divides the windows_class_list into a list of features and its corresponding list target\n",
    "    \n",
    "    :param windows_class_list: a list of mappings between a window and its corresponding class\n",
    "    :return mean_features: a list of mean features\n",
    "    :return targets: a list of targets \n",
    "    \"\"\"\n",
    "    \n",
    "    mean_features = []\n",
    "    targets = []\n",
    "\n",
    "    for windows_class_map in windows_class_list:\n",
    "        target = windows_class_map[0]\n",
    "        windows = windows_class_map[1]\n",
    "        for window in windows:\n",
    "            mean_features.append(window.mean(0))\n",
    "            targets.append(target)\n",
    "\n",
    "    return mean_features, targets\n",
    "\n",
    "\n",
    "def split_train_test(features, targets):\n",
    "    \"\"\"\n",
    "    Splits the features into different lists for the supervised learning procedure \n",
    "    \n",
    "    :param features: a list of features\n",
    "    :param targets: a list of targets \n",
    "    :return feature_train_set, feature_test_set, target_train_set, target_test_set \n",
    "    \"\"\"\n",
    "    \n",
    "    return train_test_split(features, targets, test_size=0.3, random_state=10)\n",
    "\n",
    "\n",
    "def apply_naive_bayes_clf(features_train, target_train, features_test):\n",
    "    \"\"\"\n",
    "    Trains and tests the naive bayes classfier \n",
    "    \n",
    "    :param features_train: a list of features for training the classifier\n",
    "    :param target_train: a list of targets for training the classifer \n",
    "    :param features_test: a list of features to test the classifier\n",
    "    :return target_test: a list of predicted targets\n",
    "    \"\"\"\n",
    "    \n",
    "    nb_clf = GaussianNB()\n",
    "    nb_clf.fit(features_train, target_train)\n",
    "    return nb_clf.predict(features_test)\n",
    "\n",
    "\n",
    "def apply_kNN_clf(features_train, target_train, features_test):\n",
    "    \"\"\"\n",
    "    Trains and tests the k-nearest neighbor classfier \n",
    "    \n",
    "    :param features_train: a list of features for training the classifier\n",
    "    :param target_train: a list of targets for training the classifer \n",
    "    :param features_test: a list of features to test the classifier\n",
    "    :return target_test: a list of predicted targets\n",
    "    \"\"\"\n",
    "    \n",
    "    clf = KNeighborsClassifier(n_neighbors=7)\n",
    "    clf.fit(features_train, target_train)\n",
    "    return clf.predict(features_test)\n",
    "\n",
    "\n",
    "def apply_decision_tree_clf(features_train, target_train, features_test):\n",
    "    \"\"\"\n",
    "    Trains and tests the decision tree classifier \n",
    "    \n",
    "    :param features_train: a list of features for training the classifier\n",
    "    :param target_train: a list of targets for training the classifer \n",
    "    :param features_test: a list of features to test the classifier\n",
    "    :return target_test: a list of predicted targets\n",
    "    \"\"\"\n",
    "    \n",
    "    clf = DecisionTreeClassifier(random_state=0)\n",
    "    clf.fit(features_train, target_train)\n",
    "    return clf.predict(features_test)\n",
    "\n",
    "def apply_svm_clf(features_train, target_train, features_test):\n",
    "    \"\"\"\n",
    "    Train and test the support vector machine \n",
    "    \n",
    "    :param features_train: a list of features for training the classifier\n",
    "    :param target_train: a list of targets for training the classifer \n",
    "    :param features_test: a list of features to test the classifier\n",
    "    :return target_test: a list of predicted targets\n",
    "    \"\"\"\n",
    "    \n",
    "    clf = svm.SVC()\n",
    "    clf.fit(features_train, target_train)\n",
    "    return clf.predict(features_test)\n",
    "\n",
    "def calculate_scores(target_test, target_pred):\n",
    "    \"\"\"\n",
    "    Calculates the precision, recall and f-measure from a given test and predicted target\n",
    "    :param target_test: the ground truth \n",
    "    :param target_pred: the predicted values \n",
    "    :return scores: a list of the predcited scores \n",
    "    \"\"\"\n",
    "    a = accuracy_score(target_test, target_pred)\n",
    "    p, r, f, none = precision_recall_fscore_support(target_test, target_pred, average='macro')\n",
    "    scores = []\n",
    "    scores.extend([p, r, f, a])\n",
    "    return scores\n",
    "\n",
    "def get_scores_from_all_clf(features_train,target_train,features_test):\n",
    "    \"\"\"\n",
    "    Trains and tests 4 different classifiers and gets their precision, recall, f-measure and accuarcy scores\n",
    "    \n",
    "    :param features_train: a list of features for training the classifier\n",
    "    :param target_train: a list of targets for training the classifer \n",
    "    :param features_test: a list of features to test the classifier\n",
    "    :return a panda dataframe which contains a table of all the scores \n",
    "    \"\"\"\n",
    "    \n",
    "     # naive bayes\n",
    "    target_pred = apply_naive_bayes_clf(features_train,target_train,features_test)\n",
    "    nb_scores = ['%.4f' % i for i in calculate_scores(target_test,target_pred)]\n",
    "\n",
    "    # decision tree\n",
    "    target_pred = apply_decision_tree_clf(features_train,target_train,features_test)\n",
    "    dt_scores = ['%.4f' % i for i in calculate_scores(target_test,target_pred)]\n",
    "\n",
    "    # k-nearest neighbor \n",
    "    target_pred = apply_kNN_clf(features_train,target_train,features_test)\n",
    "    knn_scores = ['%.4f' % i for i in calculate_scores(target_test,target_pred)]\n",
    "    \n",
    "    # support vector machines \n",
    "    target_pred = apply_svm_clf(features_train,target_train,features_test)\n",
    "    svm_scores = ['%.4f' % i for i in calculate_scores(target_test,target_pred)]\n",
    "    \n",
    "    # concatenate the lists vertically \n",
    "    scores = np.vstack((nb_scores,dt_scores,knn_scores,svm_scores))\n",
    "    return pd.DataFrame(scores,index=extended_clf,columns=metrics)\n",
    "\n",
    "def get_current_scores(task):\n",
    "    \"\"\"\n",
    "    Depending on the classification problem, returns the scores of all the classifiers \n",
    "    from the current benchmark\n",
    "    \n",
    "    :param task: the classification problem\n",
    "    :return a panda dataframe which contains all the scores\n",
    "    \"\"\"\n",
    "\n",
    "    if task == classification_problem[1]:\n",
    "        nb_scores = [0.9419, 0.9519, 0.9469, 0.9438]\n",
    "        dt_scores = [0.9554, 0.9563, 0.9558, 0.9546]\n",
    "        knn_scores = [0.9946, 0.9937, 0.9942, 0.9925]    \n",
    "\n",
    "    if task == classification_problem[2]:\n",
    "        nb_scores = [0.9157, 0.8553, 0.8845, 0.9310]\n",
    "        dt_scores = [0.9796, 0.9783, 0.9789, 0.9823]\n",
    "        knn_scores = [0.9985, 0.9987, 0.9986, 0.9982]\n",
    "\n",
    "    scores = np.vstack([nb_scores,dt_scores,knn_scores])  \n",
    "    return pd.DataFrame(scores,index=current_clf,columns=metrics)\n",
    "    \n",
    "\n",
    "def count_activity_amount(target):\n",
    "    \"\"\"\n",
    "    Counts for each activity the duration carried out by all subjects\n",
    "    :param target: either the test or the predicted target\n",
    "    :return a list of all activity names and a a list their corresponding duration \n",
    "    \"\"\"\n",
    "    \n",
    "    activity_duration_mappings = {}\n",
    "    activity_names = []\n",
    "    durations = []\n",
    "    \n",
    "    for id,seconds in Counter(target).items():\n",
    "        activity_duration_mappings[id] = seconds \n",
    "\n",
    "    for activity,duration in activity_duration_mappings.items():\n",
    "        activity_names.append(activity_class[activity])\n",
    "        durations.append(duration)\n",
    "    \n",
    "    return activity_names, durations\n",
    "\n",
    "\n",
    "def plot_attribute_of_activities(activity_names,attribute,y_title,title):\n",
    "    \"\"\"\n",
    "    Plots the attribute of all the activities such as the mean heart rate\n",
    "    \n",
    "    :param activity_names: all the activity names\n",
    "    :param attribute: the given attribute  \n",
    "    :param y_title: the title of the y axis\n",
    "    :param title: the title of the figure\n",
    "    \"\"\"\n",
    "    \n",
    "    sns.set(style=\"white\", context=\"talk\")    \n",
    "    num_attribute = np.arange(len(attribute))\n",
    "    fig, ax = plt.subplots(figsize=(15, 4))\n",
    "    sns.barplot(num_attribute,attribute, palette=\"RdBu_r\")\n",
    "    plt.title(title)\n",
    "    plt.xticks(num_attribute,activity_names)\n",
    "    plt.ylabel(y_title)\n",
    "    plt.show()\n",
    "    \n",
    "    \n",
    "def plot_activity_bar(activity_names,predicted_durations,expected_durations):\n",
    "    \"\"\"\n",
    "    Plots two bar charts in one figure, the exptected and predicted durations  \n",
    "    :param activity_names: all the activity names \n",
    "    :param predicted_durations: the predicted activity durations\n",
    "    :param expected_durations: the expected activity durations\n",
    "    \"\"\"\n",
    "    \n",
    "    fig, ax = plt.subplots(figsize=(15, 6))\n",
    "    y_pos = np.arange(len(expected_durations))\n",
    "    width = 0.35 # the width of the bars\n",
    "     \n",
    "    rects1 = ax.bar(y_pos,predicted_durations,width)\n",
    "    rects2 = ax.bar(y_pos + width,expected_durations,width)\n",
    "\n",
    "    ax.set_xticks(y_pos + width / 2)\n",
    "    ax.legend((rects1[0], rects2[0]), ('predicted duration', 'expected duration'))\n",
    "    ax.set_ylabel('activity performed in seconds')\n",
    "    ax.set_title('Activities')\n",
    "    ax.set_xticklabels(activity_names)\n",
    "    plt.show()\n",
    "    "
   ]
  },
  {
   "cell_type": "markdown",
   "metadata": {},
   "source": [
    "# Table of Contents \n",
    "\n",
    "The report is structured as follows:\n",
    "1. Introduction\n",
    "- Preprocessing \n",
    "- Exploratory Data Analysis\n",
    "- Hypothesis Testing \n",
    "- Models\n",
    "    - Segmentation \n",
    "    - Feature Extraction \n",
    "    - Classifiers\n",
    "- Results\n",
    "- Duration prediction\n",
    "- Conclusion\n",
    "- Bibliography \n",
    "\n",
    "\n",
    "# 1. Introduction\n",
    "\n",
    "### PAMAP2 \n",
    "The PAMAP2 Physical Activity Monitoring dataset contains data of 18 different physical activities, performed by 9 subjects wearing 3 inertial measurement units (IMUs) and a heart rate monitor. \n",
    "\n",
    "There are two published conference papers describing the dataset while the first one, a more detailed version, is taken as a reference (Reiss and Stricker, 2012). \n",
    "\n",
    "###  Labelled data.\n",
    "The PAMAP2 contains labelled data and thus for every row an activity id is available. The activity id is referred as the ground truth and allows to know the corresponding class of each training sample. This has the benefit of being able to apply supervised machine learning algorithms which is explained in more details in section 5. Models.  \n",
    " \n",
    "\n",
    "## Goal\n",
    "The goal of this assignment is to develop hardware and/or software which can determine the amount and type of\n",
    "physical activity carried out by an individual. In machine learning the problem of determining the type of a data, is known as classification. The PAMAP2 was created for physical activity monitoring with the motivation to provide a standardized platform for benchmarking tests with defined classification problems. Therefore, the same classification problems are used as in the benchmark tests in order to have a realistic comparison. \n",
    "\n",
    "### Classification problems \n",
    "While there are 18 different physical activities, the six optional activities are not used by Reiss and Stricker and are left for future work . Therefore, the following 12 activities are selected and shown in the order they are performed by the subjects:\n",
    "\n",
    "1. lying\n",
    "- sitting\n",
    "- standing \n",
    "- ironing\n",
    "- vacuum cleaning\n",
    "- ascending stairs\n",
    "- descending stairs\n",
    "- walking\n",
    "- Nordic walking\n",
    "- cycling\n",
    "- running\n",
    "- rope jumping\n",
    "\n",
    "\n",
    "There are several ways how the activities can be grouped together by a particular criterion as shown in the next chapters. \n",
    "\n",
    "\n",
    "#### 1. All activity recognition task\n",
    "This classification problem defines 12 classes, corresponding to the 12 activities and therefore each activity has its own class.  \n",
    "\n",
    "#### 2. Intensity estimation task\n",
    "For this classification problem three classes are defined: activities of light, moderate and vigorous effort. These are based on the the Metabolic Equivalent of Task (MET) which is a physiological measure expressing the energy cost of physical activities. \n",
    "\n",
    "The activities are assigned to the following classes: \n",
    "- light effort (< 3.0 MET): lying, sitting, standing and ironing \n",
    "- moderate effort (3.0 - 6.0 MET): vacuum cleaning, descending stairs, normal walking, Nordic walking and cycling \n",
    "- vigorous effort (> 6.0 MET): ascending stairs, running and rope jumping \n",
    "\n",
    "\n",
    "Reiss and Stricker define two more classification problems, once with five classes and once with six classes. Those are not taken into consideration.  \n",
    " \n"
   ]
  },
  {
   "cell_type": "markdown",
   "metadata": {},
   "source": [
    "# 2. Preprocessing\n",
    "During the pre-processing step the raw data is prepared for data mining by cleaning it and handling missing values appropriately. The data from all the 9 subjects is read into a pandas dataframe. Subsequently, the missing headers are added.  "
   ]
  },
  {
   "cell_type": "code",
   "execution_count": 112,
   "metadata": {},
   "outputs": [
    {
     "data": {
      "text/html": [
       "<div>\n",
       "<style>\n",
       "    .dataframe thead tr:only-child th {\n",
       "        text-align: right;\n",
       "    }\n",
       "\n",
       "    .dataframe thead th {\n",
       "        text-align: left;\n",
       "    }\n",
       "\n",
       "    .dataframe tbody tr th {\n",
       "        vertical-align: top;\n",
       "    }\n",
       "</style>\n",
       "<table border=\"1\" class=\"dataframe\">\n",
       "  <thead>\n",
       "    <tr style=\"text-align: right;\">\n",
       "      <th></th>\n",
       "      <th>timestamp</th>\n",
       "      <th>activityID</th>\n",
       "      <th>heart rate</th>\n",
       "      <th>hand_temperature</th>\n",
       "      <th>hand_acc_16g_x</th>\n",
       "      <th>hand_acc_16g_y</th>\n",
       "      <th>hand_acc_16g_z</th>\n",
       "      <th>hand_acc_6g_x</th>\n",
       "      <th>hand_acc_6g_y</th>\n",
       "      <th>hand_acc_6g_z</th>\n",
       "      <th>...</th>\n",
       "      <th>ankle_gyroscope_x</th>\n",
       "      <th>ankle_gyroscope_y</th>\n",
       "      <th>ankle_gyroscope_z</th>\n",
       "      <th>ankle_magnometer_x</th>\n",
       "      <th>ankle_magnometer_y</th>\n",
       "      <th>ankle_magnometer_z</th>\n",
       "      <th>ankle_orientation_0</th>\n",
       "      <th>ankle_orientation_1</th>\n",
       "      <th>ankle_orientation_2</th>\n",
       "      <th>ankle_orientation_3</th>\n",
       "    </tr>\n",
       "  </thead>\n",
       "  <tbody>\n",
       "    <tr>\n",
       "      <th>0</th>\n",
       "      <td>8.38</td>\n",
       "      <td>0</td>\n",
       "      <td>104.0</td>\n",
       "      <td>30.0</td>\n",
       "      <td>2.37223</td>\n",
       "      <td>8.60074</td>\n",
       "      <td>3.51048</td>\n",
       "      <td>2.43954</td>\n",
       "      <td>8.76165</td>\n",
       "      <td>3.35465</td>\n",
       "      <td>...</td>\n",
       "      <td>0.008300</td>\n",
       "      <td>0.009250</td>\n",
       "      <td>-0.017580</td>\n",
       "      <td>-61.1888</td>\n",
       "      <td>-38.9599</td>\n",
       "      <td>-58.1438</td>\n",
       "      <td>1.0</td>\n",
       "      <td>0.0</td>\n",
       "      <td>0.0</td>\n",
       "      <td>0.0</td>\n",
       "    </tr>\n",
       "    <tr>\n",
       "      <th>1</th>\n",
       "      <td>8.39</td>\n",
       "      <td>0</td>\n",
       "      <td>NaN</td>\n",
       "      <td>30.0</td>\n",
       "      <td>2.18837</td>\n",
       "      <td>8.56560</td>\n",
       "      <td>3.66179</td>\n",
       "      <td>2.39494</td>\n",
       "      <td>8.55081</td>\n",
       "      <td>3.64207</td>\n",
       "      <td>...</td>\n",
       "      <td>-0.006577</td>\n",
       "      <td>-0.004638</td>\n",
       "      <td>0.000368</td>\n",
       "      <td>-59.8479</td>\n",
       "      <td>-38.8919</td>\n",
       "      <td>-58.5253</td>\n",
       "      <td>1.0</td>\n",
       "      <td>0.0</td>\n",
       "      <td>0.0</td>\n",
       "      <td>0.0</td>\n",
       "    </tr>\n",
       "    <tr>\n",
       "      <th>2</th>\n",
       "      <td>8.40</td>\n",
       "      <td>0</td>\n",
       "      <td>NaN</td>\n",
       "      <td>30.0</td>\n",
       "      <td>2.37357</td>\n",
       "      <td>8.60107</td>\n",
       "      <td>3.54898</td>\n",
       "      <td>2.30514</td>\n",
       "      <td>8.53644</td>\n",
       "      <td>3.73280</td>\n",
       "      <td>...</td>\n",
       "      <td>0.003014</td>\n",
       "      <td>0.000148</td>\n",
       "      <td>0.022495</td>\n",
       "      <td>-60.7361</td>\n",
       "      <td>-39.4138</td>\n",
       "      <td>-58.3999</td>\n",
       "      <td>1.0</td>\n",
       "      <td>0.0</td>\n",
       "      <td>0.0</td>\n",
       "      <td>0.0</td>\n",
       "    </tr>\n",
       "    <tr>\n",
       "      <th>3</th>\n",
       "      <td>8.41</td>\n",
       "      <td>0</td>\n",
       "      <td>NaN</td>\n",
       "      <td>30.0</td>\n",
       "      <td>2.07473</td>\n",
       "      <td>8.52853</td>\n",
       "      <td>3.66021</td>\n",
       "      <td>2.33528</td>\n",
       "      <td>8.53622</td>\n",
       "      <td>3.73277</td>\n",
       "      <td>...</td>\n",
       "      <td>0.003175</td>\n",
       "      <td>-0.020301</td>\n",
       "      <td>0.011275</td>\n",
       "      <td>-60.4091</td>\n",
       "      <td>-38.7635</td>\n",
       "      <td>-58.3956</td>\n",
       "      <td>1.0</td>\n",
       "      <td>0.0</td>\n",
       "      <td>0.0</td>\n",
       "      <td>0.0</td>\n",
       "    </tr>\n",
       "    <tr>\n",
       "      <th>4</th>\n",
       "      <td>8.42</td>\n",
       "      <td>0</td>\n",
       "      <td>NaN</td>\n",
       "      <td>30.0</td>\n",
       "      <td>2.22936</td>\n",
       "      <td>8.83122</td>\n",
       "      <td>3.70000</td>\n",
       "      <td>2.23055</td>\n",
       "      <td>8.59741</td>\n",
       "      <td>3.76295</td>\n",
       "      <td>...</td>\n",
       "      <td>0.012698</td>\n",
       "      <td>-0.014303</td>\n",
       "      <td>-0.002823</td>\n",
       "      <td>-61.5199</td>\n",
       "      <td>-39.3879</td>\n",
       "      <td>-58.2694</td>\n",
       "      <td>1.0</td>\n",
       "      <td>0.0</td>\n",
       "      <td>0.0</td>\n",
       "      <td>0.0</td>\n",
       "    </tr>\n",
       "  </tbody>\n",
       "</table>\n",
       "<p>5 rows × 54 columns</p>\n",
       "</div>"
      ],
      "text/plain": [
       "   timestamp  activityID  heart rate  hand_temperature  hand_acc_16g_x  \\\n",
       "0       8.38           0       104.0              30.0         2.37223   \n",
       "1       8.39           0         NaN              30.0         2.18837   \n",
       "2       8.40           0         NaN              30.0         2.37357   \n",
       "3       8.41           0         NaN              30.0         2.07473   \n",
       "4       8.42           0         NaN              30.0         2.22936   \n",
       "\n",
       "   hand_acc_16g_y  hand_acc_16g_z  hand_acc_6g_x  hand_acc_6g_y  \\\n",
       "0         8.60074         3.51048        2.43954        8.76165   \n",
       "1         8.56560         3.66179        2.39494        8.55081   \n",
       "2         8.60107         3.54898        2.30514        8.53644   \n",
       "3         8.52853         3.66021        2.33528        8.53622   \n",
       "4         8.83122         3.70000        2.23055        8.59741   \n",
       "\n",
       "   hand_acc_6g_z         ...           ankle_gyroscope_x  ankle_gyroscope_y  \\\n",
       "0        3.35465         ...                    0.008300           0.009250   \n",
       "1        3.64207         ...                   -0.006577          -0.004638   \n",
       "2        3.73280         ...                    0.003014           0.000148   \n",
       "3        3.73277         ...                    0.003175          -0.020301   \n",
       "4        3.76295         ...                    0.012698          -0.014303   \n",
       "\n",
       "   ankle_gyroscope_z  ankle_magnometer_x  ankle_magnometer_y  \\\n",
       "0          -0.017580            -61.1888            -38.9599   \n",
       "1           0.000368            -59.8479            -38.8919   \n",
       "2           0.022495            -60.7361            -39.4138   \n",
       "3           0.011275            -60.4091            -38.7635   \n",
       "4          -0.002823            -61.5199            -39.3879   \n",
       "\n",
       "   ankle_magnometer_z  ankle_orientation_0  ankle_orientation_1  \\\n",
       "0            -58.1438                  1.0                  0.0   \n",
       "1            -58.5253                  1.0                  0.0   \n",
       "2            -58.3999                  1.0                  0.0   \n",
       "3            -58.3956                  1.0                  0.0   \n",
       "4            -58.2694                  1.0                  0.0   \n",
       "\n",
       "   ankle_orientation_2  ankle_orientation_3  \n",
       "0                  0.0                  0.0  \n",
       "1                  0.0                  0.0  \n",
       "2                  0.0                  0.0  \n",
       "3                  0.0                  0.0  \n",
       "4                  0.0                  0.0  \n",
       "\n",
       "[5 rows x 54 columns]"
      ]
     },
     "execution_count": 112,
     "metadata": {},
     "output_type": "execute_result"
    }
   ],
   "source": [
    "df = read_subjects(1,9)\n",
    "addheader(df).head()"
   ]
  },
  {
   "cell_type": "markdown",
   "metadata": {},
   "source": [
    "### Description of dataset \n",
    "\n",
    "As described in the readme file from the dataset, the raw data from the 3 IMUs and the HR-monitor sensors are already synchronized and labelled. \n",
    "\n",
    "The 54 the columns contain the following data:\n",
    "- 1 timestamp (s)\n",
    "- 2 activityID \n",
    "- 3 heart rate (bpm)\n",
    "- 4-20 IMU hand\n",
    "- 21-37 IMU chest\n",
    "- 38-54 IMU ankle\n",
    "\n",
    "Each of the IMU sensory data contains the following columns:\n",
    "- 1 temperature (°C)\n",
    "- 2-4 3D-acceleration data (ms-2), scale: ±16g, resolution: 13-bit\n",
    "- 5-7 3D-acceleration data (ms-2), scale: ±6g, resolution: 13-bit*\n",
    "- 8-10 3D-gyroscope data (rad/s)\n",
    "- 11-13 3D-magnetometer data (μT)\n",
    "- 14-17 orientation (invalid in this data collection)\n",
    "\n",
    "The 3D values from the devices acceleration, gyroscope and magnetometer are labelled with a suffix 'x', 'y' or 'z' for indicating the direction.  \n",
    "\n"
   ]
  },
  {
   "cell_type": "markdown",
   "metadata": {},
   "source": [
    "#### Relevant columns \n",
    "Not all the columns are of relevance for the classification. As stated by Reiss and Stricker (2012), accelerometers outperform gyroscopes. In the readme file it us further mentioned that due to high impacts caused by certain movements (e.g. during running) the acceleration with the scale of ±6g gets saturated sometimes and thus the accelerometer with the scale of ±16g is recommended.\n",
    "\n",
    "Therefore, from all 3 IMUs (hand, chest, ankle), only data from the accelerometers with the scale of ±16g and the HR-monitor are taken into consideration for the data processing."
   ]
  },
  {
   "cell_type": "code",
   "execution_count": 113,
   "metadata": {},
   "outputs": [
    {
     "data": {
      "text/html": [
       "<div>\n",
       "<style>\n",
       "    .dataframe thead tr:only-child th {\n",
       "        text-align: right;\n",
       "    }\n",
       "\n",
       "    .dataframe thead th {\n",
       "        text-align: left;\n",
       "    }\n",
       "\n",
       "    .dataframe tbody tr th {\n",
       "        vertical-align: top;\n",
       "    }\n",
       "</style>\n",
       "<table border=\"1\" class=\"dataframe\">\n",
       "  <thead>\n",
       "    <tr style=\"text-align: right;\">\n",
       "      <th></th>\n",
       "      <th>timestamp</th>\n",
       "      <th>activityID</th>\n",
       "      <th>heart rate</th>\n",
       "      <th>hand_acc_16g_x</th>\n",
       "      <th>hand_acc_16g_y</th>\n",
       "      <th>hand_acc_16g_z</th>\n",
       "      <th>chest_acc_16g_x</th>\n",
       "      <th>chest_acc_16g_y</th>\n",
       "      <th>chest_acc_16g_z</th>\n",
       "      <th>ankle_acc_16g_x</th>\n",
       "      <th>ankle_acc_16g_y</th>\n",
       "      <th>ankle_acc_16g_z</th>\n",
       "    </tr>\n",
       "  </thead>\n",
       "  <tbody>\n",
       "    <tr>\n",
       "      <th>0</th>\n",
       "      <td>8.38</td>\n",
       "      <td>0</td>\n",
       "      <td>104.0</td>\n",
       "      <td>2.37223</td>\n",
       "      <td>8.60074</td>\n",
       "      <td>3.51048</td>\n",
       "      <td>0.238080</td>\n",
       "      <td>9.80003</td>\n",
       "      <td>-1.68896</td>\n",
       "      <td>9.65918</td>\n",
       "      <td>-1.65569</td>\n",
       "      <td>-0.099797</td>\n",
       "    </tr>\n",
       "    <tr>\n",
       "      <th>1</th>\n",
       "      <td>8.39</td>\n",
       "      <td>0</td>\n",
       "      <td>NaN</td>\n",
       "      <td>2.18837</td>\n",
       "      <td>8.56560</td>\n",
       "      <td>3.66179</td>\n",
       "      <td>0.319530</td>\n",
       "      <td>9.61282</td>\n",
       "      <td>-1.49328</td>\n",
       "      <td>9.69370</td>\n",
       "      <td>-1.57902</td>\n",
       "      <td>-0.215687</td>\n",
       "    </tr>\n",
       "    <tr>\n",
       "      <th>2</th>\n",
       "      <td>8.40</td>\n",
       "      <td>0</td>\n",
       "      <td>NaN</td>\n",
       "      <td>2.37357</td>\n",
       "      <td>8.60107</td>\n",
       "      <td>3.54898</td>\n",
       "      <td>0.235593</td>\n",
       "      <td>9.72421</td>\n",
       "      <td>-1.76621</td>\n",
       "      <td>9.58944</td>\n",
       "      <td>-1.73276</td>\n",
       "      <td>0.092914</td>\n",
       "    </tr>\n",
       "    <tr>\n",
       "      <th>3</th>\n",
       "      <td>8.41</td>\n",
       "      <td>0</td>\n",
       "      <td>NaN</td>\n",
       "      <td>2.07473</td>\n",
       "      <td>8.52853</td>\n",
       "      <td>3.66021</td>\n",
       "      <td>0.388697</td>\n",
       "      <td>9.53572</td>\n",
       "      <td>-1.72410</td>\n",
       "      <td>9.58814</td>\n",
       "      <td>-1.77040</td>\n",
       "      <td>0.054545</td>\n",
       "    </tr>\n",
       "    <tr>\n",
       "      <th>4</th>\n",
       "      <td>8.42</td>\n",
       "      <td>0</td>\n",
       "      <td>NaN</td>\n",
       "      <td>2.22936</td>\n",
       "      <td>8.83122</td>\n",
       "      <td>3.70000</td>\n",
       "      <td>0.315800</td>\n",
       "      <td>9.49908</td>\n",
       "      <td>-1.60914</td>\n",
       "      <td>9.69771</td>\n",
       "      <td>-1.65625</td>\n",
       "      <td>-0.060809</td>\n",
       "    </tr>\n",
       "  </tbody>\n",
       "</table>\n",
       "</div>"
      ],
      "text/plain": [
       "   timestamp  activityID  heart rate  hand_acc_16g_x  hand_acc_16g_y  \\\n",
       "0       8.38           0       104.0         2.37223         8.60074   \n",
       "1       8.39           0         NaN         2.18837         8.56560   \n",
       "2       8.40           0         NaN         2.37357         8.60107   \n",
       "3       8.41           0         NaN         2.07473         8.52853   \n",
       "4       8.42           0         NaN         2.22936         8.83122   \n",
       "\n",
       "   hand_acc_16g_z  chest_acc_16g_x  chest_acc_16g_y  chest_acc_16g_z  \\\n",
       "0         3.51048         0.238080          9.80003         -1.68896   \n",
       "1         3.66179         0.319530          9.61282         -1.49328   \n",
       "2         3.54898         0.235593          9.72421         -1.76621   \n",
       "3         3.66021         0.388697          9.53572         -1.72410   \n",
       "4         3.70000         0.315800          9.49908         -1.60914   \n",
       "\n",
       "   ankle_acc_16g_x  ankle_acc_16g_y  ankle_acc_16g_z  \n",
       "0          9.65918         -1.65569        -0.099797  \n",
       "1          9.69370         -1.57902        -0.215687  \n",
       "2          9.58944         -1.73276         0.092914  \n",
       "3          9.58814         -1.77040         0.054545  \n",
       "4          9.69771         -1.65625        -0.060809  "
      ]
     },
     "execution_count": 113,
     "metadata": {},
     "output_type": "execute_result"
    }
   ],
   "source": [
    "df = df[relevant_columns]\n",
    "df.head()"
   ]
  },
  {
   "cell_type": "markdown",
   "metadata": {},
   "source": [
    "#### Missing data \n",
    "\n",
    "The readme file mentions that missing sensory data due to wireless data dropping are indicated with NaN. In addition, since the IMUs have a sampling frequency of 100Hz (every 0.01s) but the sampling frequency of the HR-monitor is only 9Hz, the missing HR-values are also indicated with NaN in the dataset. \n",
    "\n",
    "For dealing with the NaN values, Reiss and Stricker (2012) use linear interpolation, which is an estimation of a value within two known values or sequence of values. The pandas framework provides linear interpolation for NaN values as its default method which is illustrated in the following example:\n"
   ]
  },
  {
   "cell_type": "code",
   "execution_count": 114,
   "metadata": {},
   "outputs": [
    {
     "data": {
      "text/plain": [
       "0    0.0\n",
       "1    1.0\n",
       "2    NaN\n",
       "3    3.0\n",
       "dtype: float64"
      ]
     },
     "execution_count": 114,
     "metadata": {},
     "output_type": "execute_result"
    }
   ],
   "source": [
    "s = pd.Series([0, 1, np.nan, 3])\n",
    "s"
   ]
  },
  {
   "cell_type": "code",
   "execution_count": 74,
   "metadata": {},
   "outputs": [
    {
     "data": {
      "text/plain": [
       "0    0.0\n",
       "1    1.0\n",
       "2    2.0\n",
       "3    3.0\n",
       "dtype: float64"
      ]
     },
     "execution_count": 74,
     "metadata": {},
     "output_type": "execute_result"
    }
   ],
   "source": [
    "s.interpolate()"
   ]
  },
  {
   "cell_type": "markdown",
   "metadata": {},
   "source": [
    "The missing value '2' was interpolated through the linear combination of 1 and 3. Same procedure is applied for the dataset of the subjects:"
   ]
  },
  {
   "cell_type": "code",
   "execution_count": 115,
   "metadata": {},
   "outputs": [
    {
     "data": {
      "text/html": [
       "<div>\n",
       "<style>\n",
       "    .dataframe thead tr:only-child th {\n",
       "        text-align: right;\n",
       "    }\n",
       "\n",
       "    .dataframe thead th {\n",
       "        text-align: left;\n",
       "    }\n",
       "\n",
       "    .dataframe tbody tr th {\n",
       "        vertical-align: top;\n",
       "    }\n",
       "</style>\n",
       "<table border=\"1\" class=\"dataframe\">\n",
       "  <thead>\n",
       "    <tr style=\"text-align: right;\">\n",
       "      <th></th>\n",
       "      <th>timestamp</th>\n",
       "      <th>activityID</th>\n",
       "      <th>heart rate</th>\n",
       "      <th>hand_acc_16g_x</th>\n",
       "      <th>hand_acc_16g_y</th>\n",
       "      <th>hand_acc_16g_z</th>\n",
       "      <th>chest_acc_16g_x</th>\n",
       "      <th>chest_acc_16g_y</th>\n",
       "      <th>chest_acc_16g_z</th>\n",
       "      <th>ankle_acc_16g_x</th>\n",
       "      <th>ankle_acc_16g_y</th>\n",
       "      <th>ankle_acc_16g_z</th>\n",
       "    </tr>\n",
       "  </thead>\n",
       "  <tbody>\n",
       "    <tr>\n",
       "      <th>0</th>\n",
       "      <td>8.38</td>\n",
       "      <td>0</td>\n",
       "      <td>104.0</td>\n",
       "      <td>2.37223</td>\n",
       "      <td>8.60074</td>\n",
       "      <td>3.51048</td>\n",
       "      <td>0.238080</td>\n",
       "      <td>9.80003</td>\n",
       "      <td>-1.68896</td>\n",
       "      <td>9.65918</td>\n",
       "      <td>-1.65569</td>\n",
       "      <td>-0.099797</td>\n",
       "    </tr>\n",
       "    <tr>\n",
       "      <th>1</th>\n",
       "      <td>8.39</td>\n",
       "      <td>0</td>\n",
       "      <td>104.0</td>\n",
       "      <td>2.18837</td>\n",
       "      <td>8.56560</td>\n",
       "      <td>3.66179</td>\n",
       "      <td>0.319530</td>\n",
       "      <td>9.61282</td>\n",
       "      <td>-1.49328</td>\n",
       "      <td>9.69370</td>\n",
       "      <td>-1.57902</td>\n",
       "      <td>-0.215687</td>\n",
       "    </tr>\n",
       "    <tr>\n",
       "      <th>2</th>\n",
       "      <td>8.40</td>\n",
       "      <td>0</td>\n",
       "      <td>104.0</td>\n",
       "      <td>2.37357</td>\n",
       "      <td>8.60107</td>\n",
       "      <td>3.54898</td>\n",
       "      <td>0.235593</td>\n",
       "      <td>9.72421</td>\n",
       "      <td>-1.76621</td>\n",
       "      <td>9.58944</td>\n",
       "      <td>-1.73276</td>\n",
       "      <td>0.092914</td>\n",
       "    </tr>\n",
       "    <tr>\n",
       "      <th>3</th>\n",
       "      <td>8.41</td>\n",
       "      <td>0</td>\n",
       "      <td>104.0</td>\n",
       "      <td>2.07473</td>\n",
       "      <td>8.52853</td>\n",
       "      <td>3.66021</td>\n",
       "      <td>0.388697</td>\n",
       "      <td>9.53572</td>\n",
       "      <td>-1.72410</td>\n",
       "      <td>9.58814</td>\n",
       "      <td>-1.77040</td>\n",
       "      <td>0.054545</td>\n",
       "    </tr>\n",
       "    <tr>\n",
       "      <th>4</th>\n",
       "      <td>8.42</td>\n",
       "      <td>0</td>\n",
       "      <td>104.0</td>\n",
       "      <td>2.22936</td>\n",
       "      <td>8.83122</td>\n",
       "      <td>3.70000</td>\n",
       "      <td>0.315800</td>\n",
       "      <td>9.49908</td>\n",
       "      <td>-1.60914</td>\n",
       "      <td>9.69771</td>\n",
       "      <td>-1.65625</td>\n",
       "      <td>-0.060809</td>\n",
       "    </tr>\n",
       "  </tbody>\n",
       "</table>\n",
       "</div>"
      ],
      "text/plain": [
       "   timestamp  activityID  heart rate  hand_acc_16g_x  hand_acc_16g_y  \\\n",
       "0       8.38           0       104.0         2.37223         8.60074   \n",
       "1       8.39           0       104.0         2.18837         8.56560   \n",
       "2       8.40           0       104.0         2.37357         8.60107   \n",
       "3       8.41           0       104.0         2.07473         8.52853   \n",
       "4       8.42           0       104.0         2.22936         8.83122   \n",
       "\n",
       "   hand_acc_16g_z  chest_acc_16g_x  chest_acc_16g_y  chest_acc_16g_z  \\\n",
       "0         3.51048         0.238080          9.80003         -1.68896   \n",
       "1         3.66179         0.319530          9.61282         -1.49328   \n",
       "2         3.54898         0.235593          9.72421         -1.76621   \n",
       "3         3.66021         0.388697          9.53572         -1.72410   \n",
       "4         3.70000         0.315800          9.49908         -1.60914   \n",
       "\n",
       "   ankle_acc_16g_x  ankle_acc_16g_y  ankle_acc_16g_z  \n",
       "0          9.65918         -1.65569        -0.099797  \n",
       "1          9.69370         -1.57902        -0.215687  \n",
       "2          9.58944         -1.73276         0.092914  \n",
       "3          9.58814         -1.77040         0.054545  \n",
       "4          9.69771         -1.65625        -0.060809  "
      ]
     },
     "execution_count": 115,
     "metadata": {},
     "output_type": "execute_result"
    }
   ],
   "source": [
    "df = df.interpolate()\n",
    "df.head()"
   ]
  },
  {
   "cell_type": "markdown",
   "metadata": {},
   "source": [
    "As shown in the table above, the missing heart rate values are now interpolated. To check that there are definitely no NaN values present, the above command is used. "
   ]
  },
  {
   "cell_type": "code",
   "execution_count": 116,
   "metadata": {},
   "outputs": [
    {
     "data": {
      "text/plain": [
       "False"
      ]
     },
     "execution_count": 116,
     "metadata": {},
     "output_type": "execute_result"
    }
   ],
   "source": [
    "df.isnull().values.any()"
   ]
  },
  {
   "cell_type": "markdown",
   "metadata": {},
   "source": [
    "#### Remove transient activities \n",
    "The last step in the pre-processing procedure removes transient data, which is labelled with an activityID = 0. As mentioned in the readme file, this data mainly covers the transition between the different activities, such as going from one location to the next activity's location, or waiting for the preparation of some equipment."
   ]
  },
  {
   "cell_type": "code",
   "execution_count": 117,
   "metadata": {
    "collapsed": true
   },
   "outputs": [],
   "source": [
    "df = df[df.activityID != 0]"
   ]
  },
  {
   "cell_type": "markdown",
   "metadata": {},
   "source": [
    "# 3. Exploratory Data Analysis (EDA)\n",
    "\n",
    "The dataset is divided into 50% training set for the EDA and 50% test set for the hypothesis testing.  "
   ]
  },
  {
   "cell_type": "code",
   "execution_count": 118,
   "metadata": {
    "collapsed": true
   },
   "outputs": [],
   "source": [
    "df_train,df_test = train_test_split(df, test_size=0.5, random_state=10)"
   ]
  },
  {
   "cell_type": "markdown",
   "metadata": {},
   "source": [
    "### Heart rate \n",
    "\n",
    "The heart rate information is obviously the first attribute that comes to someone's mind for determining the type of an activity. Intuitively, the more exhausting the exercise, the higher the heart rate.  "
   ]
  },
  {
   "cell_type": "code",
   "execution_count": 119,
   "metadata": {},
   "outputs": [
    {
     "data": {
      "image/png": "[encoded data removed]",
      "text/plain": [
       "<matplotlib.figure.Figure at 0x1109782e8>"
      ]
     },
     "metadata": {},
     "output_type": "display_data"
    }
   ],
   "source": [
    "# get the mean heart rate for each activity \n",
    "activity_names, heart_rates = get_mean_attribute(df_train,'heart rate')\n",
    "title = 'heart rate (bpm)'\n",
    "y_title = 'mean ' + title\n",
    "plot_attribute_of_activities(activity_names, heart_rates, y_title,title)"
   ]
  },
  {
   "cell_type": "markdown",
   "metadata": {},
   "source": [
    "#### Observation\n",
    "As shown in the figure above, activities that are consuming more energy and therefore belong to a higher MET class, have in average also a higher heart rate. "
   ]
  },
  {
   "cell_type": "markdown",
   "metadata": {},
   "source": [
    "### 3D-acceleration of the hand IMU\n",
    "\n",
    "The plotted bar charts show the mean 3D-acceleration of all 3 IMUs for each activity. It has to be mentioned that a negative 3D-acceleration value does not mean that the subject is slowing down as it is known in physics. A positive or a negative value indicates which direction on the axis the subject moves.\n"
   ]
  },
  {
   "cell_type": "code",
   "execution_count": 120,
   "metadata": {},
   "outputs": [
    {
     "data": {
      "application/javascript": [
       "// this javascript command increases the window size of the outputs \n",
       "IPython.OutputArea.auto_scroll_threshold = 9999;"
      ],
      "text/plain": [
       "<IPython.core.display.Javascript object>"
      ]
     },
     "metadata": {},
     "output_type": "display_data"
    }
   ],
   "source": [
    "%%javascript\n",
    "// this javascript command increases the window size of the outputs \n",
    "IPython.OutputArea.auto_scroll_threshold = 9999;"
   ]
  },
  {
   "cell_type": "code",
   "execution_count": 101,
   "metadata": {},
   "outputs": [
    {
     "data": {
      "image/png": "[encoded data removed]",
      "text/plain": [
       "<matplotlib.figure.Figure at 0x109f51c88>"
      ]
     },
     "metadata": {},
     "output_type": "display_data"
    },
    {
     "data": {
      "image/png": "[encoded data removed]",
      "text/plain": [
       "<matplotlib.figure.Figure at 0x10ab92ac8>"
      ]
     },
     "metadata": {},
     "output_type": "display_data"
    },
    {
     "data": {
      "image/png": "[encoded data removed]",
      "text/plain": [
       "<matplotlib.figure.Figure at 0x10b2caf60>"
      ]
     },
     "metadata": {},
     "output_type": "display_data"
    },
    {
     "data": {
      "image/png": "[encoded data removed]",
      "text/plain": [
       "<matplotlib.figure.Figure at 0x1a192ea9b0>"
      ]
     },
     "metadata": {},
     "output_type": "display_data"
    },
    {
     "data": {
      "image/png": "[encoded data removed]",
      "text/plain": [
       "<matplotlib.figure.Figure at 0x110a7ccc0>"
      ]
     },
     "metadata": {},
     "output_type": "display_data"
    },
    {
     "data": {
      "image/png": "[encoded data removed]",
      "text/plain": [
       "<matplotlib.figure.Figure at 0x1a11b72390>"
      ]
     },
     "metadata": {},
     "output_type": "display_data"
    },
    {
     "data": {
      "image/png": "[encoded data removed]",
      "text/plain": [
       "<matplotlib.figure.Figure at 0x108206630>"
      ]
     },
     "metadata": {},
     "output_type": "display_data"
    },
    {
     "data": {
      "image/png": "[encoded data removed]",
      "text/plain": [
       "<matplotlib.figure.Figure at 0x109d21048>"
      ]
     },
     "metadata": {},
     "output_type": "display_data"
    },
    {
     "data": {
      "image/png": "[encoded data removed]",
      "text/plain": [
       "<matplotlib.figure.Figure at 0x1a11a47668>"
      ]
     },
     "metadata": {},
     "output_type": "display_data"
    }
   ],
   "source": [
    " # get the mean 3D-accelerations for each activity \n",
    "for i in range(1,len(feature_columns)):\n",
    "    activity_names, hand_acc_16g_x = get_mean_attribute(df_train,feature_columns[i])\n",
    "    title = feature_columns[i]\n",
    "    y_title = 'mean  ' + title\n",
    "    plot_attribute_of_activities(activity_names, hand_acc_16g_x,y_title,title)"
   ]
  },
  {
   "cell_type": "markdown",
   "metadata": {},
   "source": [
    "### Observations\n",
    "Most 3D-acceleration attributes from the IMUs follow some patterns while the relevance of the pattern depends on the classification problem. For the 'all activity recognition task' the values of the accelerations have to be distinguishable from each other which is mostly the case. Exceptions are the attributes chest_acc_y and ankle_acc_x since the activities measured by those accelerations are similar regarding the axis. For example, sitting and running have similar values for the chest y-acceleration since the chest is in a similar y-position while performing those activities.\n",
    "\n",
    "For the 'intensity estimation task' the values within the MET classes have to be similar. The observations below are related to this classification problem.\n",
    "\n",
    "#### hand x-acceleration: \n",
    "In average, light (light in respect to the light MET class) activities have a similar hand x-acceleration values. There is an exception with the activity 'standing' which is described as standing still in the description of the activities. However, it is also mentioned that gesticulating is possible while standing which explains the acceleration. \n",
    "\n",
    "#### hand y-acceleration\n",
    "In average, vigorous activities have a similar hand y-acceleration values.\n",
    "\n",
    "#### hand z-acceleration\n",
    "In average, light activities have a similar hand z-acceleration values. \n",
    "\n",
    "#### chest x-acceleration\n",
    "In average, moderate activities have similar chest x-acceleration values. \n",
    "\n",
    "#### chest y-acceleration \n",
    "There is no obvious pattern for this attribute regarding the 'intensity estimation task' nor for the 'all activity recognition task'. By not considered the mean of this attribute as a feature, some scores in the benchmark slightly decrease by 1% whereas the majority of the scores increase by 2% to 7%.  \n",
    "\n",
    "#### chest z-acceleration\n",
    "In average, vigorous activities have a similar chest z-acceleration values.\n",
    "\n",
    "#### ankle x-acceleration\n",
    "In average, moderate and vigorous activities have a similar ankle x-acceleration values. \n",
    "\n",
    "#### ankle y-acceleration\n",
    "In average, light activity values are negative while the other activities positive \n",
    "\n",
    "#### ankle z-acceleration\n",
    "There is no obvious pattern for the 'intensity estimation task' apparent. However, the ankle z-accelerations values are mostly distinguishable and hence its useful for the 'all activity recognition task'. This illustrates the problem of having different classifications problems. One attribute might irrelevant or even harmful (decreasing accuracy) for one classification while it can be relevant for another one. "
   ]
  },
  {
   "cell_type": "markdown",
   "metadata": {},
   "source": [
    "# 4. Hypothesis Testing "
   ]
  },
  {
   "cell_type": "markdown",
   "metadata": {},
   "source": [
    "## Hypothesis 1\n",
    "The first hypothesis is based on the EDA of the heart rate. "
   ]
  },
  {
   "cell_type": "code",
   "execution_count": 121,
   "metadata": {},
   "outputs": [
    {
     "name": "stdout",
     "output_type": "stream",
     "text": [
      "the mean heart rate of the activities from the light MET class: 84 bpm\n"
     ]
    }
   ],
   "source": [
    "mean_heart_rate_light_met = df_test.query('activityID == [1,2,3,17]')['heart rate'].mean()\n",
    "print('the mean heart rate of the activities from the light MET class:',round(mean_heart_rate_light_met),'bpm')"
   ]
  },
  {
   "cell_type": "markdown",
   "metadata": {},
   "source": [
    "### Null Hypothesis\n",
    "- The mean heart rate of the activities from the moderate MET class is equals to the mean heart rate of the activities from the light MET class\n",
    "\n",
    "### Alternative Hypothesis\n",
    "- The mean heart rate of the activities from the moderate MET class is higher than the mean heart rate of the activities from the light MET class\n",
    "\n",
    "<br>\n",
    "$$h_0:\\mu = 84$$\n",
    "$$h_a:\\mu > 84$$\n",
    "\n",
    "\n"
   ]
  },
  {
   "cell_type": "markdown",
   "metadata": {},
   "source": [
    "### Z-score and p-value\n",
    "The following formula is used to calculate the z-score and the corresponding p-value:\n",
    "\n",
    "$$ z = \\frac{X - \\mu}{\\frac{\\sigma}{\\sqrt{n}}}$$"
   ]
  },
  {
   "cell_type": "code",
   "execution_count": 122,
   "metadata": {},
   "outputs": [
    {
     "name": "stdout",
     "output_type": "stream",
     "text": [
      "X: mean heart rate of the activities from the moderate MET class = 118 bpm\n",
      "mu: mean heart rate of the activities from the light MET class = 84 bpm\n",
      "sigma: std around the mean heartrate form the moderate MET class = 16 bpm\n",
      "n: number of samples = 436320\n",
      "z-score = 1432.47380777\n",
      "p-value = 0.0\n"
     ]
    }
   ],
   "source": [
    "n_heartrates_moderate_met, mean_heartrate_moderate_met, std_heartrate_moderate_met,z,pvalue = \\\n",
    "calculate_attribute_parameter('heart rate',mean_heart_rate_light_met)\n",
    "\n",
    "print('X: mean heart rate of the activities from the moderate MET class =',round(mean_heartrate_moderate_met),'bpm')\n",
    "print('mu: mean heart rate of the activities from the light MET class =',round(mean_heart_rate_light_met) ,'bpm')\n",
    "print('sigma: std around the mean heartrate form the moderate MET class =',round(std_heartrate_moderate_met),'bpm')\n",
    "print('n: number of samples =',n_heartrates_moderate_met)\n",
    "print('z-score =',z)\n",
    "print('p-value =',pvalue)"
   ]
  },
  {
   "cell_type": "markdown",
   "metadata": {},
   "source": [
    "### Analysis \n",
    "\n",
    "The mean heart rate from the moderate MET class is with a value of 118 bpm significantly higher than the mean heart rate from the light MET class with a value of 84 bpm. This with the combination of a large number of samples causes the p-value to converges to zero and thus is rounded to zero by python. In conclusion, the heart rate plays a statistical significance for determining whether an activity belongs to the light or moderate MET class. "
   ]
  },
  {
   "cell_type": "markdown",
   "metadata": {},
   "source": [
    "## Hypothesis 2\n",
    "For the second hypothesis the hand x-acceleration is chosen as a representative of the 3D-accelerations. "
   ]
  },
  {
   "cell_type": "code",
   "execution_count": 125,
   "metadata": {},
   "outputs": [
    {
     "name": "stdout",
     "output_type": "stream",
     "text": [
      "mean hand x-acceleration of the light MET class: -2.11\n"
     ]
    }
   ],
   "source": [
    "mean_x_acc_hand_light_met = df_test.query('activityID == [1,2,3,17]')['hand_acc_16g_x'].mean()\n",
    "print('mean hand x-acceleration of the light MET class:',\"%.2f\" % mean_x_acc_hand_light_met)"
   ]
  },
  {
   "cell_type": "markdown",
   "metadata": {},
   "source": [
    "### Null Hypothesis\n",
    "- The mean hand x-acceleration of the activities from the moderate MET class is equals to the mean hand x-acceleration  of the activities from the light MET class\n",
    "\n",
    "### Alternative Hypothesis\n",
    "- The mean hand x-acceleration of the activities from the moderate MET class is lower to the mean hand x-acceleration  of the activities from the light MET class\n",
    "\n",
    "<br>\n",
    "$$h_0:\\mu = -2.11$$\n",
    "$$h_a:\\mu < -2.11$$"
   ]
  },
  {
   "cell_type": "markdown",
   "metadata": {},
   "source": [
    "### Z-score and p-value"
   ]
  },
  {
   "cell_type": "code",
   "execution_count": 127,
   "metadata": {},
   "outputs": [
    {
     "name": "stdout",
     "output_type": "stream",
     "text": [
      "X: mean hand x-acceleration of the moderate MET class = -6.96\n",
      "mu: mean hand x-acceleration of the light MET class = -2.11\n",
      "sigma: std around the mean hand x-acceleration of the moderate MET class = 4.83\n",
      "n: number of samples = 436320\n",
      "z-score = -663.102532486\n",
      "p-value = 0.0\n"
     ]
    }
   ],
   "source": [
    "n_x_acc_hand_moderate_met, mean_x_acc_hand_moderate_met, std_x_acc_hand_moderate_met,z,pvalue = \\\n",
    "calculate_attribute_parameter('hand_acc_16g_x',mean_x_acc_hand_light_met)\n",
    "\n",
    "print('X: mean hand x-acceleration of the moderate MET class =',\"%.2f\" % mean_x_acc_hand_moderate_met)\n",
    "print('mu: mean hand x-acceleration of the light MET class =',\"%.2f\" %mean_x_acc_hand_light_met)\n",
    "print('sigma: std around the mean hand x-acceleration of the moderate MET class = ' \"%.2f\" % std_x_acc_hand_moderate_met)\n",
    "print('n: number of samples =',n_x_acc_hand_moderate_met)\n",
    "print('z-score =',z)\n",
    "print('p-value =', 1 - pvalue)"
   ]
  },
  {
   "cell_type": "markdown",
   "metadata": {},
   "source": [
    "### Analysis \n",
    "The mean hand x-acceleration from the moderate MET class is with a value of -6.96 significantly lower than the mean hand x-acceleration from the light MET class with a value of -2.11. Similar to the first hypothesis, a large number of samples causes the p-value to converges to zero and thus is rounded to zero by python. In conclusion, the x-acceleration and probably the other 3D-accelerations as well play a statistical significance for determining whether an activity belongs to the light or moderate MET class. "
   ]
  },
  {
   "cell_type": "markdown",
   "metadata": {},
   "source": [
    "# 5. Models \n",
    "In the next chapters different classifiers are trained and tested based on the knowledge gained from the data exploration and hypothesis testing. "
   ]
  },
  {
   "cell_type": "markdown",
   "metadata": {
    "collapsed": true
   },
   "source": [
    "## Segmentation \n",
    "\n",
    "Sliding window is a method of time-series analysis and used for segmentation. The rows (time-series of 0.01s) are divided into a sequence of segments in order to extract the features. As stated by Reiss and Stricker (2012), a window length of about 3-5 seconds is reasonable because it allows to obtain at least 2 or 3 periods of all different movements. Thus, the following parameters are chosen:\n",
    "\n",
    "- window size: 512 samples \n",
    "- shift size: 100 samples \n",
    "\n",
    "This results in 5.12 seconds as window size, shifted by 1 second between consecutive windows. The reason for the choice of 512 samples is to assure effective FFT (Fast Fourier transform) calculation as described in the paper. However, the features that could be obtained from the frequency domain are not of interest. Nevertheless, 512 samples are chosen for the window size for having a comparison to the benchmarks of Reiss and Stricker. "
   ]
  },
  {
   "cell_type": "code",
   "execution_count": 128,
   "metadata": {
    "collapsed": true
   },
   "outputs": [],
   "source": [
    "class_window_mappings = sliding_window(classification_problem[1],df)"
   ]
  },
  {
   "cell_type": "markdown",
   "metadata": {},
   "source": [
    "The sliding_window function returns a list of mappings between a window and its corresponding class. What kind of class it returns depends on the classification problem. In this case the 'all activity recognition task' has been chosen so that there are 12 different classes. "
   ]
  },
  {
   "cell_type": "markdown",
   "metadata": {},
   "source": [
    "## Feature Extraction \n",
    "The next step in the data processing pipeline is the extraction of the features. There are several possible features that can be extracted from the segmented 3D-acceleration data. Reiss and Stricker (2012) list the following ones, however, not all of them were used by them: \n",
    "\n",
    "- signal features in both time and frequency domain\n",
    "- mean, median, standard deviation, peak acceleration and energy\n",
    "- absolute integral\n",
    "- Correlation between each pair of axes\n",
    "- Spectral entropy of the normalized PSD (spectral density)\n",
    "- From the heart rate data, the mean and gradient\n",
    "\n",
    "They extracted in total 137 features from each data window (133 features from IMU acceleration data and 4 features from the heart rate). No reduction of the feature space was applied on the feature set. \n",
    "\n",
    "### Selected features\n",
    "Some of the above listed features are useful for the two mentioned classification problems that are not considered in this assignment. The results during the EDA encourage to use the mean as a feature and thus the wide range of possible features is reduced to:  \n",
    "\n",
    "- the mean of each axes of the 3D-acceleration data for each IMU except the mean chest y-acceleration since it has no relevant pattern for the defined classification problems (8 features)\n",
    "- the mean of the heart rate (1 feature)\n",
    "\n",
    "This results in 9 features which are extracted from each window.  \n",
    "\n",
    "#### feature_extraction function \n",
    "The sliding window method returns 19434 windows and their corresponding classes. This is given the feature_extraction function as input and respectively 19434 feature vectors are obtained, each containing 9 features, as well 19434 targets. The term target is more common in machine learning and is interchangeably used with the term class.\n",
    "\n",
    "The mapping between the two lists mean_features and the targets is free since both have the same order. For example, the mean_feature at index 100 belongs to target at index 100.  "
   ]
  },
  {
   "cell_type": "code",
   "execution_count": 129,
   "metadata": {
    "collapsed": true
   },
   "outputs": [],
   "source": [
    "mean_features, targets = feature_extraction(class_window_mappings)"
   ]
  },
  {
   "cell_type": "code",
   "execution_count": 130,
   "metadata": {},
   "outputs": [
    {
     "name": "stdout",
     "output_type": "stream",
     "text": [
      "number of feature vectors: 19434\n",
      "number of targets 19434\n"
     ]
    }
   ],
   "source": [
    "print('number of feature vectors:',len(mean_features))\n",
    "print('number of targets',len(targets))"
   ]
  },
  {
   "cell_type": "markdown",
   "metadata": {},
   "source": [
    "## Classifiers \n",
    "\n",
    "Using a data processing chain enables to use the extracted features as input to test several classifier. Reiss and Stricker (2012) applied five classifiers for creating the benchmarks:\n",
    "\n",
    "- Decision tree (C4.5)\n",
    "- Boosted decision tree (C4.5)\n",
    "- Bagging decision tree (C4.5)\n",
    "- Naive Bayes\n",
    "- k-nearest neighbors (k-NN)\n",
    "\n",
    "For a having a comparison to the current benchmarks, the same classifiers are applied. The standard decision tree is chosen as a representative for the different versions. Supplementary, the support vector machine (SVM)is introduced as a new classifier.\n",
    "\n",
    "###  The naive bayes classifier\n",
    "The naive Bayes method is a supervised learning algorithm based on the Bayes’ theorem. It has the 'naive' assumption that features are independent from each other. The scikit-learn library provides various implementations such as the chosen GaussianNB method which assumes that the likelihood of the features is Gaussian. \n",
    "\n",
    "### The decision tree classifier\n",
    "Decision trees are supervised learning methods that can used for classification. The classifier predicts the value of a target by learning simple decision rules inferred from the data features. Unlike the C4.5 decision tree algorithm used by Reiss and Stricker, the scikit-learn uses the CART version which is very similar to C4.5 but does not compute rule sets. CART constructs binary trees by using the feature and threshold that provide the largest information gain at each node.\n",
    "\n",
    "### The k-nearest neighbors classifier\n",
    "The principle behind nearest neighbor method is to classify a feature to the class which is the most common among its k-nearest neighbors. The scikit-learn library has k=5 (number of neighbors) per default while Reiss and Stricker (2012) suggest k=7 for the classification. \n",
    "\n",
    "### The support vector machines classifier \n",
    "SVM can be used for classification problems with two classes. It maps each feature as a point in a n-dimensional space (where n is number of features). Subsequently, hyperplanes are defined to differentiate the two classes. However, scikit-learn supports n classes by constructing n * (n - 1) / 2 classifiers and each one is trained from two classes. "
   ]
  },
  {
   "cell_type": "markdown",
   "metadata": {},
   "source": [
    "### Train and test set \n",
    "For calculating the accuracy of the classifiers both the feature and the target vectors are randomly divided into train and test sets with 7:3 as a ratio. The train_test_split() function of scikit-learn is used which is capable of keeping the order between the features and their corresponding targets correctly. "
   ]
  },
  {
   "cell_type": "code",
   "execution_count": 131,
   "metadata": {
    "collapsed": true
   },
   "outputs": [],
   "source": [
    "features_train, features_test, target_train, target_test = split_train_test(mean_features,targets) "
   ]
  },
  {
   "cell_type": "markdown",
   "metadata": {},
   "source": [
    "### Scikit-learn classifiers functions  \n",
    "For every scikit-learn classifier the same two functions are called: \n",
    "- fit(X, y): The classifier is trained with the train set by calling the fit function which takes two parameters. The first one is a matrix, a list of feature vectors and thus represented with a capital X in the documentation. The second parameter is a vector which contains the values of corresponding target.\n",
    "- predict(X): The predict function takes the feature test set as parameter, the unseen data. It returns a list of the predicted targets. "
   ]
  },
  {
   "cell_type": "markdown",
   "metadata": {},
   "source": [
    "# 6. Results \n",
    "\n",
    "The results are presented in four different score metrics which are explained in more detail.  \n",
    "\n",
    "The scikit-learn score functions take two parameters, the actual target (target_test) and the predicted target as returned by a classifier. The combination of those two targets can create 4 different scenarios. This is illustrated in the following example where siting is referred as positive and walking (not siting) as negative. \n",
    "\n",
    "- True Positive (TP): actual target positive and predicted target positive. For example, the subject was siting and siting was predicted.\n",
    "- True Negative (TN): actual target negative and predicted target negative. For example, the subject was walking and walking was predicted. \n",
    "- False Positive (FP): actual target negative and predicted target positive. For example, the subject was walking but siting was predicted.\n",
    "- False Negative (FN): actual target positive and predicted target negative. For example, the subject was siting but walking was predicted. \n",
    "\n",
    "Having defined the different combinations, the following four common metrics are taken into account for calculating the score. \n",
    "\n",
    "#### Accuracy \n",
    "Ratio of correctly predicted targets to the total targets:\n",
    "- Accuracy = TP + TN / TP + FP + FN + TN\n",
    "\n",
    "#### Precision\n",
    "Ratio of correctly predicted positive targets to the total predicted positive targets.\n",
    "- Precision = TP / TP + FP\n",
    "\n",
    "#### Recall \n",
    "Ratio of correctly predicted positive targets to the total of all actual positive targets. \n",
    "- Recall = TP / TP + FN\n",
    "\n",
    "#### F-measure \n",
    "Weighted average of Precision and Recall.\n",
    "- F-measure = 2 \\* (Recall * Precision) / (Recall + Precision)"
   ]
  },
  {
   "cell_type": "markdown",
   "metadata": {},
   "source": [
    "## Scores \n",
    "The tables above summarise the achieved scores of the 4 classifiers. For each classification problem, the current benchmark performed by Reiss and Stricker (2012) is given as point of reference. For simplicity, precision, recall, F-measure and accuracy are called PRFA.  \n",
    "\n",
    "### Classification problem 1 - All activity recognition task\n",
    "\n",
    "#### Current Benchmark"
   ]
  },
  {
   "cell_type": "code",
   "execution_count": 132,
   "metadata": {},
   "outputs": [
    {
     "data": {
      "text/html": [
       "<div>\n",
       "<style>\n",
       "    .dataframe thead tr:only-child th {\n",
       "        text-align: right;\n",
       "    }\n",
       "\n",
       "    .dataframe thead th {\n",
       "        text-align: left;\n",
       "    }\n",
       "\n",
       "    .dataframe tbody tr th {\n",
       "        vertical-align: top;\n",
       "    }\n",
       "</style>\n",
       "<table border=\"1\" class=\"dataframe\">\n",
       "  <thead>\n",
       "    <tr style=\"text-align: right;\">\n",
       "      <th></th>\n",
       "      <th>Precision</th>\n",
       "      <th>Recall</th>\n",
       "      <th>F-measure</th>\n",
       "      <th>Accuracy</th>\n",
       "    </tr>\n",
       "  </thead>\n",
       "  <tbody>\n",
       "    <tr>\n",
       "      <th>Naive Bayes</th>\n",
       "      <td>0.9419</td>\n",
       "      <td>0.9519</td>\n",
       "      <td>0.9469</td>\n",
       "      <td>0.9438</td>\n",
       "    </tr>\n",
       "    <tr>\n",
       "      <th>Decision Tree</th>\n",
       "      <td>0.9554</td>\n",
       "      <td>0.9563</td>\n",
       "      <td>0.9558</td>\n",
       "      <td>0.9546</td>\n",
       "    </tr>\n",
       "    <tr>\n",
       "      <th>kNN</th>\n",
       "      <td>0.9946</td>\n",
       "      <td>0.9937</td>\n",
       "      <td>0.9942</td>\n",
       "      <td>0.9925</td>\n",
       "    </tr>\n",
       "  </tbody>\n",
       "</table>\n",
       "</div>"
      ],
      "text/plain": [
       "               Precision  Recall  F-measure  Accuracy\n",
       "Naive Bayes       0.9419  0.9519     0.9469    0.9438\n",
       "Decision Tree     0.9554  0.9563     0.9558    0.9546\n",
       "kNN               0.9946  0.9937     0.9942    0.9925"
      ]
     },
     "execution_count": 132,
     "metadata": {},
     "output_type": "execute_result"
    }
   ],
   "source": [
    "get_current_scores(classification_problem[1])"
   ]
  },
  {
   "cell_type": "markdown",
   "metadata": {},
   "source": [
    "#### New Scores "
   ]
  },
  {
   "cell_type": "code",
   "execution_count": 133,
   "metadata": {
    "scrolled": true
   },
   "outputs": [
    {
     "data": {
      "text/html": [
       "<div>\n",
       "<style>\n",
       "    .dataframe thead tr:only-child th {\n",
       "        text-align: right;\n",
       "    }\n",
       "\n",
       "    .dataframe thead th {\n",
       "        text-align: left;\n",
       "    }\n",
       "\n",
       "    .dataframe tbody tr th {\n",
       "        vertical-align: top;\n",
       "    }\n",
       "</style>\n",
       "<table border=\"1\" class=\"dataframe\">\n",
       "  <thead>\n",
       "    <tr style=\"text-align: right;\">\n",
       "      <th></th>\n",
       "      <th>Precision</th>\n",
       "      <th>Recall</th>\n",
       "      <th>F-measure</th>\n",
       "      <th>Accuracy</th>\n",
       "    </tr>\n",
       "  </thead>\n",
       "  <tbody>\n",
       "    <tr>\n",
       "      <th>Naive Bayes</th>\n",
       "      <td>0.8323</td>\n",
       "      <td>0.8169</td>\n",
       "      <td>0.8205</td>\n",
       "      <td>0.8283</td>\n",
       "    </tr>\n",
       "    <tr>\n",
       "      <th>Decision Tree</th>\n",
       "      <td>0.9288</td>\n",
       "      <td>0.9249</td>\n",
       "      <td>0.9267</td>\n",
       "      <td>0.9311</td>\n",
       "    </tr>\n",
       "    <tr>\n",
       "      <th>kNN</th>\n",
       "      <td>0.9535</td>\n",
       "      <td>0.9408</td>\n",
       "      <td>0.9464</td>\n",
       "      <td>0.9523</td>\n",
       "    </tr>\n",
       "    <tr>\n",
       "      <th>SVM</th>\n",
       "      <td>0.9691</td>\n",
       "      <td>0.9607</td>\n",
       "      <td>0.9644</td>\n",
       "      <td>0.9683</td>\n",
       "    </tr>\n",
       "  </tbody>\n",
       "</table>\n",
       "</div>"
      ],
      "text/plain": [
       "              Precision  Recall F-measure Accuracy\n",
       "Naive Bayes      0.8323  0.8169    0.8205   0.8283\n",
       "Decision Tree    0.9288  0.9249    0.9267   0.9311\n",
       "kNN              0.9535  0.9408    0.9464   0.9523\n",
       "SVM              0.9691  0.9607    0.9644   0.9683"
      ]
     },
     "execution_count": 133,
     "metadata": {},
     "output_type": "execute_result"
    }
   ],
   "source": [
    "get_scores_from_all_clf(features_train,target_train,features_test)"
   ]
  },
  {
   "cell_type": "markdown",
   "metadata": {},
   "source": [
    "#### Observations  \n",
    "All classifiers score lower in PRFA than in the current benchmarks:\n",
    "- Naive Bayes around 10% to 14%\n",
    "- Decision Tree around 2 to 3%%  \n",
    "- kNN around 4% to 5% \n",
    "\n",
    "SVM has with an average of 96% in PRFA the highest score compared other new scores while kNN is with with an average of 95% close behind. "
   ]
  },
  {
   "cell_type": "markdown",
   "metadata": {},
   "source": [
    "### Classification problem 2 - Intensity estimation task"
   ]
  },
  {
   "cell_type": "markdown",
   "metadata": {},
   "source": [
    "#### Current Benchmark "
   ]
  },
  {
   "cell_type": "code",
   "execution_count": 134,
   "metadata": {},
   "outputs": [
    {
     "data": {
      "text/html": [
       "<div>\n",
       "<style>\n",
       "    .dataframe thead tr:only-child th {\n",
       "        text-align: right;\n",
       "    }\n",
       "\n",
       "    .dataframe thead th {\n",
       "        text-align: left;\n",
       "    }\n",
       "\n",
       "    .dataframe tbody tr th {\n",
       "        vertical-align: top;\n",
       "    }\n",
       "</style>\n",
       "<table border=\"1\" class=\"dataframe\">\n",
       "  <thead>\n",
       "    <tr style=\"text-align: right;\">\n",
       "      <th></th>\n",
       "      <th>Precision</th>\n",
       "      <th>Recall</th>\n",
       "      <th>F-measure</th>\n",
       "      <th>Accuracy</th>\n",
       "    </tr>\n",
       "  </thead>\n",
       "  <tbody>\n",
       "    <tr>\n",
       "      <th>Naive Bayes</th>\n",
       "      <td>0.9157</td>\n",
       "      <td>0.8553</td>\n",
       "      <td>0.8845</td>\n",
       "      <td>0.9310</td>\n",
       "    </tr>\n",
       "    <tr>\n",
       "      <th>Decision Tree</th>\n",
       "      <td>0.9796</td>\n",
       "      <td>0.9783</td>\n",
       "      <td>0.9789</td>\n",
       "      <td>0.9823</td>\n",
       "    </tr>\n",
       "    <tr>\n",
       "      <th>kNN</th>\n",
       "      <td>0.9985</td>\n",
       "      <td>0.9987</td>\n",
       "      <td>0.9986</td>\n",
       "      <td>0.9982</td>\n",
       "    </tr>\n",
       "  </tbody>\n",
       "</table>\n",
       "</div>"
      ],
      "text/plain": [
       "               Precision  Recall  F-measure  Accuracy\n",
       "Naive Bayes       0.9157  0.8553     0.8845    0.9310\n",
       "Decision Tree     0.9796  0.9783     0.9789    0.9823\n",
       "kNN               0.9985  0.9987     0.9986    0.9982"
      ]
     },
     "execution_count": 134,
     "metadata": {},
     "output_type": "execute_result"
    }
   ],
   "source": [
    "get_current_scores(classification_problem[2])"
   ]
  },
  {
   "cell_type": "markdown",
   "metadata": {},
   "source": [
    "#### New Benchmark "
   ]
  },
  {
   "cell_type": "code",
   "execution_count": 144,
   "metadata": {},
   "outputs": [
    {
     "data": {
      "text/html": [
       "<div>\n",
       "<style>\n",
       "    .dataframe thead tr:only-child th {\n",
       "        text-align: right;\n",
       "    }\n",
       "\n",
       "    .dataframe thead th {\n",
       "        text-align: left;\n",
       "    }\n",
       "\n",
       "    .dataframe tbody tr th {\n",
       "        vertical-align: top;\n",
       "    }\n",
       "</style>\n",
       "<table border=\"1\" class=\"dataframe\">\n",
       "  <thead>\n",
       "    <tr style=\"text-align: right;\">\n",
       "      <th></th>\n",
       "      <th>Precision</th>\n",
       "      <th>Recall</th>\n",
       "      <th>F-measure</th>\n",
       "      <th>Accuracy</th>\n",
       "    </tr>\n",
       "  </thead>\n",
       "  <tbody>\n",
       "    <tr>\n",
       "      <th>Naive Bayes</th>\n",
       "      <td>0.8055</td>\n",
       "      <td>0.7502</td>\n",
       "      <td>0.7630</td>\n",
       "      <td>0.7829</td>\n",
       "    </tr>\n",
       "    <tr>\n",
       "      <th>Decision Tree</th>\n",
       "      <td>0.9588</td>\n",
       "      <td>0.9579</td>\n",
       "      <td>0.9584</td>\n",
       "      <td>0.9654</td>\n",
       "    </tr>\n",
       "    <tr>\n",
       "      <th>kNN</th>\n",
       "      <td>0.9769</td>\n",
       "      <td>0.9666</td>\n",
       "      <td>0.9715</td>\n",
       "      <td>0.9768</td>\n",
       "    </tr>\n",
       "    <tr>\n",
       "      <th>SVM</th>\n",
       "      <td>0.9852</td>\n",
       "      <td>0.9757</td>\n",
       "      <td>0.9803</td>\n",
       "      <td>0.9849</td>\n",
       "    </tr>\n",
       "  </tbody>\n",
       "</table>\n",
       "</div>"
      ],
      "text/plain": [
       "              Precision  Recall F-measure Accuracy\n",
       "Naive Bayes      0.8055  0.7502    0.7630   0.7829\n",
       "Decision Tree    0.9588  0.9579    0.9584   0.9654\n",
       "kNN              0.9769  0.9666    0.9715   0.9768\n",
       "SVM              0.9852  0.9757    0.9803   0.9849"
      ]
     },
     "execution_count": 144,
     "metadata": {},
     "output_type": "execute_result"
    }
   ],
   "source": [
    "# the data process chain is reapeated for the intensity estimation task\n",
    "class_window_mappings = sliding_window(classification_problem[2],df)\n",
    "mean_features, target_classes = feature_extraction(class_window_mappings)\n",
    "features_train, features_test, target_train, target_test = split_train_test(mean_features,target_classes) \n",
    "get_scores_from_all_clf(features_train,target_train,features_test)"
   ]
  },
  {
   "cell_type": "markdown",
   "metadata": {},
   "source": [
    "#### Observations \n",
    "All classifiers score lower in PRFA than in the current benchmarks:\n",
    "- Naive Bayes scores around 10% to 15% \n",
    "- Decision Tree scores around 2% to 3% \n",
    "- kNN scores around 1% to 2%\n",
    "\n",
    "The results are similar to the first benchmark comparison, the SVM has with an average of 98% in PRFA the highest score compared other new scores while kNN has an average of 97%. "
   ]
  },
  {
   "cell_type": "markdown",
   "metadata": {},
   "source": [
    "## Benchmark Analysis \n",
    "\n",
    "Ideally, using the same classifiers should result in the same benchmark scores, however, all the classifiers perform worse. One reason is the number of features used to train the models. Reis and Stickers used 137 features whereas only 9 features were used to train the new classifiers. Nevertheless, the overall performance of the classifiers is good. While the Naive Bayes performance is satisfactory, the other classifiers have at least a PRFA score of 93%. Especially kNN and the newly introduced classifier SVM perform well in both classification problems where SVM has an average PRFA of 98% for the 'intensity estimation task'. The relative high scores with only 9 features could be explained with the bias-variance trade-off. By having 9 instead of 137 features, the classifiers have a higher bias and produce simpler models that are underfitting the training set and therefore failing to capture important patterns. This is not a problem in the defined framework of this project since two classifications problems are used instead of four as in the case of Reis and Stickers. On the other hand, having a higher bias allows to have a lower variance so that unseen patterns can be generalized better.    \n",
    "\n",
    "\n",
    "### Further research \n",
    "- It would be of interest to measure the performance of the classifiers if there are trained with more features such as std, median or the correlation between each pair of axes. There might be a possibility that SVM outperforms all the scores in the current benchmark if it is trained with the 137 features used by Reiss and Stickers. \n",
    "\n",
    "- The optional files contain different activities than in the subject files. One way to take advantage of those files is by training the classifiers with the subjects files regarding the 'intensity estimation problem' and use the optional files to predict the MET classes of the optional activities.  \n"
   ]
  },
  {
   "cell_type": "markdown",
   "metadata": {},
   "source": [
    "# 7. Duration prediction\n",
    "The goal of the assignment is not only to identify the type of an activity but also the amount carried out by an subject. The following parameters are chosen in the example:\n",
    "- The dataset of the 9 subjects. \n",
    "- The  classification problem 'all activity recognition task'.\n",
    "- The classifier SVM trained with 70% train and 30% test set.\n",
    "\n",
    "The predicted and expected amount of an activity are determined by counting the number of values from the predicted target and test target. Knowing that every target value corresponds to a window size of 1s, the sum of the len of the targets results in the amount of an activity.   "
   ]
  },
  {
   "cell_type": "code",
   "execution_count": 136,
   "metadata": {},
   "outputs": [
    {
     "data": {
      "image/png": "[encoded data removed]",
      "text/plain": [
       "<matplotlib.figure.Figure at 0x109e27710>"
      ]
     },
     "metadata": {},
     "output_type": "display_data"
    }
   ],
   "source": [
    "# the data process chain is reapeated for the all activity recognition task using the svm classifier \n",
    "class_window_mappings = sliding_window(classification_problem[1],df)\n",
    "mean_features, targets = feature_extraction(class_window_mappings)\n",
    "features_train, features_test, target_train, target_test = split_train_test(mean_features,targets) \n",
    "target_pred = apply_svm_clf(features_train, target_train, features_test)\n",
    "\n",
    "# counts the durations of an activity based on the target prediciton and the ground truth\n",
    "activity_names, predicted_durations = count_activity_amount(target_pred)\n",
    "activity_names, expected_durations = count_activity_amount(target_test)\n",
    "\n",
    "# plots two bar charts in one figure, the exptected and predicted durations  \n",
    "plot_activity_bar(activity_names,predicted_durations,expected_durations)"
   ]
  },
  {
   "cell_type": "markdown",
   "metadata": {},
   "source": [
    "As shown in the figure above, there might be a slight difference between the predicted and expected durations which is caused by the 4% error rate of the SVM classifier. "
   ]
  },
  {
   "cell_type": "markdown",
   "metadata": {},
   "source": [
    "# 8. Conclusion\n",
    "\n",
    "The amount and type of the activities could be successfully determined. This was achieved by first cleaning the dataset and handle missing values using interpolation. During the next step, the data was explored in order to get insights from the data. It revealed that the mean of the heart rate and the mean of the 3D-accelerations data from the IMUs are reliable indicators for the type of an activity. It also showed that the mean of the chest y-acceleration has no benefits regarding both classification problems. The hypothesis testing proved that there is an statistical significance for the mean assumption. Knowing that, the means of those attributes were extracted as features by dividing the data into a sequence of segments with a window size of 5.12s and a shift size of 1s. Eventually, the features were used to train and test four different classifiers. The three classfiers naive Bayes, decision tree and k-nearest neighbors were compared to the current benchmark. The new scores were varying between 78% to 98% in PRFA and were in average lower than in the current benchmark. The support vector machine, which was introduced as a new classifier, achieved the highest result with an score of 96% for the 'all activity recognition task' and 98% for the 'intensity estimation task'. This makes the SVM an interesting candidate for further research. \n",
    "In conclusion, the PAMAP2 dataset with its various activities carried out by different subject provides an excellent environment for data exploration, hypothesis testing and supervised machine learning.  \n",
    "\n",
    "\n"
   ]
  },
  {
   "cell_type": "markdown",
   "metadata": {},
   "source": [
    "# 9. Bibliography \n",
    "A. Reiss and D. Stricker (2012). Creating and Benchmarking a New Dataset for Physical Activity Monitoring. The 5th Workshop on Affect and Behaviour Related Assistance (ABRA)."
   ]
  }
 ],
 "metadata": {
  "kernelspec": {
   "display_name": "Python 3",
   "language": "python",
   "name": "python3"
  },
  "language_info": {
   "codemirror_mode": {
    "name": "ipython",
    "version": 3
   },
   "file_extension": ".py",
   "mimetype": "text/x-python",
   "name": "python",
   "nbconvert_exporter": "python",
   "pygments_lexer": "ipython3",
   "version": "3.6.4"
  }
 },
 "nbformat": 4,
 "nbformat_minor": 2
}
